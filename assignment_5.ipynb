{
 "cells": [
  {
   "cell_type": "markdown",
   "metadata": {},
   "source": [
    "## Assignment 5"
   ]
  },
  {
   "cell_type": "markdown",
   "metadata": {},
   "source": [
    "1.\tWhat are Sequence-to-sequence models?\n",
    "2.\tWhat are the Problem with Vanilla RNNs?\n",
    "3.\tWhat is Gradient clipping?\n",
    "4.\tExplain Attention mechanism\n",
    "5.\tExplain Conditional random fields (CRFs)\n",
    "6.\tExplain self-attention\n",
    "7.\tWhat is Bahdanau Attention?\n",
    "8.\tWhat is a Language Model?\n",
    "9.\tWhat is Multi-Head Attention?\n",
    "10.\tWhat is Bilingual Evaluation Understudy (BLEU)\n"
   ]
  },
  {
   "cell_type": "code",
   "execution_count": null,
   "metadata": {},
   "outputs": [],
   "source": []
  }
 ],
 "metadata": {
  "language_info": {
   "name": "python"
  },
  "orig_nbformat": 4
 },
 "nbformat": 4,
 "nbformat_minor": 2
}
