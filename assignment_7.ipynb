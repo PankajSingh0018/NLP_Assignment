{
 "cells": [
  {
   "cell_type": "markdown",
   "metadata": {},
   "source": [
    "## Assignment 7"
   ]
  },
  {
   "cell_type": "markdown",
   "metadata": {},
   "source": [
    "1.\tExplain the architecture of BERT\n",
    "2.\tExplain Masked Language Modeling (MLM)\n",
    "3.\tExplain Next Sentence Prediction (NSP)\n",
    "4.\tWhat is Matthews evaluation?\n",
    "5.\tWhat is Matthews Correlation Coefficient (MCC)?\n",
    "6.\tExplain Semantic Role Labeling\n",
    "7.\tWhy Fine-tuning a BERT model takes less time than pretraining\n",
    "8.\tRecognizing Textual Entailment (RTE)\n",
    "9.\tExplain the decoder stack of  GPT models.\n"
   ]
  },
  {
   "cell_type": "markdown",
   "metadata": {},
   "source": []
  }
 ],
 "metadata": {
  "language_info": {
   "name": "python"
  },
  "orig_nbformat": 4
 },
 "nbformat": 4,
 "nbformat_minor": 2
}
