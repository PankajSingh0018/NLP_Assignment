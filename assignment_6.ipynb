{
 "cells": [
  {
   "cell_type": "markdown",
   "metadata": {},
   "source": [
    "## Assignment 6\n"
   ]
  },
  {
   "cell_type": "markdown",
   "metadata": {},
   "source": [
    "1.\tWhat are Vanilla autoencoders\n",
    "2.\tWhat are Sparse autoencoders\n",
    "3.\tWhat are Denoising autoencoders\n",
    "4.\tWhat are Convolutional autoencoders\n",
    "5.\tWhat are Stacked autoencoders\n",
    "6.\tExplain how to generate sentences using LSTM autoencoders\n",
    "7.\tExplain Extractive summarization\n",
    "8.\tExplain Abstractive summarization\n",
    "9.\tExplain Beam search\n",
    "10.\tExplain Length normalization\n",
    "11.\tExplain Coverage normalization\n",
    "12.\tExplain ROUGE metric evaluation\n"
   ]
  },
  {
   "cell_type": "markdown",
   "metadata": {},
   "source": []
  }
 ],
 "metadata": {
  "language_info": {
   "name": "python"
  },
  "orig_nbformat": 4
 },
 "nbformat": 4,
 "nbformat_minor": 2
}
