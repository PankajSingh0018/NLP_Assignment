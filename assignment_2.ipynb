{
 "cells": [
  {
   "cell_type": "markdown",
   "metadata": {},
   "source": [
    "## Assignment 2"
   ]
  },
  {
   "cell_type": "markdown",
   "metadata": {},
   "source": [
    "1.\tWhat are Corpora?\n",
    "2.\tWhat are Tokens?\n",
    "3.\tWhat are Unigrams, Bigrams, Trigrams?\n",
    "4.\tHow to generate n-grams from text?\n",
    "5.\tExplain Lemmatization\n",
    "6.\tExplain Stemming\n",
    "7.\tExplain Part-of-speech (POS) tagging\n",
    "8.\tExplain Chunking or shallow parsing\n",
    "9.\tExplain Noun Phrase (NP) chunking\n",
    "10.\tExplain Named Entity Recognition\n"
   ]
  },
  {
   "cell_type": "markdown",
   "metadata": {},
   "source": []
  }
 ],
 "metadata": {
  "language_info": {
   "name": "python"
  },
  "orig_nbformat": 4
 },
 "nbformat": 4,
 "nbformat_minor": 2
}
