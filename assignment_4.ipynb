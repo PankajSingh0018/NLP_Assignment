{
 "cells": [
  {
   "cell_type": "markdown",
   "metadata": {},
   "source": [
    "## Assignment 4 "
   ]
  },
  {
   "cell_type": "markdown",
   "metadata": {},
   "source": [
    "1.\tCan you think of a few applications for a sequence-to-sequence RNN? What about a sequence-to-vector RNN? And a vector-to-sequence RNN?\n",
    "2.\tWhy do people use encoder–decoder RNNs rather than plain sequence-to-sequence RNNs for automatic translation?\n",
    "3.\tHow could you combine a convolutional neural network with an RNN to classify videos?\n",
    "4.\tWhat are the advantages of building an RNN using dynamic_rnn() rather than static_rnn()?\n",
    "5.\tHow can you deal with variable-length input sequences? What about variable-length output sequences?\n",
    "6.\tWhat is a common way to distribute training and execution of a deep RNN across multiple GPUs?\n",
    "\n"
   ]
  },
  {
   "cell_type": "code",
   "execution_count": null,
   "metadata": {},
   "outputs": [],
   "source": []
  }
 ],
 "metadata": {
  "language_info": {
   "name": "python"
  },
  "orig_nbformat": 4
 },
 "nbformat": 4,
 "nbformat_minor": 2
}
