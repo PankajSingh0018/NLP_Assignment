{
 "cells": [
  {
   "cell_type": "markdown",
   "metadata": {},
   "source": [
    "## Assignment 3"
   ]
  },
  {
   "cell_type": "markdown",
   "metadata": {},
   "source": [
    "1.\tExplain the basic architecture of RNN cell.\n",
    "2.\tExplain Backpropagation through time (BPTT)\n",
    "3.\tExplain Vanishing and exploding gradients\n",
    "4.\tExplain Long short-term memory (LSTM)\n",
    "5.\tExplain Gated recurrent unit (GRU)\n",
    "6.\tExplain Peephole LSTM\n",
    "7.\tBidirectional RNNs\n",
    "8.\tExplain the gates of LSTM with equations.\n",
    "9.\tExplain BiLSTM\n",
    "10.\tExplain BiGRU\n"
   ]
  },
  {
   "cell_type": "code",
   "execution_count": null,
   "metadata": {},
   "outputs": [],
   "source": []
  }
 ],
 "metadata": {
  "language_info": {
   "name": "python"
  },
  "orig_nbformat": 4
 },
 "nbformat": 4,
 "nbformat_minor": 2
}
